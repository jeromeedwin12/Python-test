{
 "cells": [
  {
   "cell_type": "code",
   "execution_count": 1,
   "id": "a849f3b3",
   "metadata": {},
   "outputs": [
    {
     "name": "stdout",
     "output_type": "stream",
     "text": [
      "['TRUE', 'FALSE', 'TRUE', 'TRUE', 'FALSE', 'FALSE']\n"
     ]
    }
   ],
   "source": [
    "#9) que\n",
    "\n",
    "isbool=['True','FALse','tRUe','tRue','False','faLse']\n",
    "out=map(lambda x:x.upper(),isbool)\n",
    "print(list(out))\n"
   ]
  },
  {
   "cell_type": "code",
   "execution_count": null,
   "id": "cf48eab8",
   "metadata": {},
   "outputs": [],
   "source": []
  }
 ],
 "metadata": {
  "kernelspec": {
   "display_name": "Python 3 (ipykernel)",
   "language": "python",
   "name": "python3"
  },
  "language_info": {
   "codemirror_mode": {
    "name": "ipython",
    "version": 3
   },
   "file_extension": ".py",
   "mimetype": "text/x-python",
   "name": "python",
   "nbconvert_exporter": "python",
   "pygments_lexer": "ipython3",
   "version": "3.9.6"
  }
 },
 "nbformat": 4,
 "nbformat_minor": 5
}
