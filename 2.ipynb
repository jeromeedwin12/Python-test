{
 "cells": [
  {
   "cell_type": "code",
   "execution_count": 6,
   "id": "7c3554d9",
   "metadata": {},
   "outputs": [
    {
     "name": "stdout",
     "output_type": "stream",
     "text": [
      "Enter the number4\n",
      "82.0\n"
     ]
    }
   ],
   "source": [
    "def add(n):\n",
    "    dict = { 'Square': lambda a : a**2, \n",
    "             'Cube': lambda a : a**3,\n",
    "             'Squareroot': lambda a : a**(1/2)}\n",
    "    sum = 0\n",
    "    for key in dict.keys():\n",
    "        sum += dict[key](n)\n",
    "    return sum\n",
    "    \n",
    "print(add(int(input(\"Enter the number\"))))"
   ]
  },
  {
   "cell_type": "code",
   "execution_count": null,
   "id": "62225a38",
   "metadata": {},
   "outputs": [],
   "source": []
  }
 ],
 "metadata": {
  "kernelspec": {
   "display_name": "Python 3 (ipykernel)",
   "language": "python",
   "name": "python3"
  },
  "language_info": {
   "codemirror_mode": {
    "name": "ipython",
    "version": 3
   },
   "file_extension": ".py",
   "mimetype": "text/x-python",
   "name": "python",
   "nbconvert_exporter": "python",
   "pygments_lexer": "ipython3",
   "version": "3.9.6"
  }
 },
 "nbformat": 4,
 "nbformat_minor": 5
}
